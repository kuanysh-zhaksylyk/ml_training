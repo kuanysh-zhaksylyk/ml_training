{
  "nbformat": 4,
  "nbformat_minor": 0,
  "metadata": {
    "colab": {
      "provenance": [],
      "authorship_tag": "ABX9TyPuaXCuAEl4eDgBwdlHUOw7",
      "include_colab_link": true
    },
    "kernelspec": {
      "name": "python3",
      "display_name": "Python 3"
    },
    "language_info": {
      "name": "python"
    }
  },
  "cells": [
    {
      "cell_type": "markdown",
      "metadata": {
        "id": "view-in-github",
        "colab_type": "text"
      },
      "source": [
        "<a href=\"https://colab.research.google.com/github/kuanysh-zhaksylyk/ml_training/blob/main/ML_SELFEDU_TRAINING26_PCA_%E2%80%93_principal_component_analysis.ipynb\" target=\"_parent\"><img src=\"https://colab.research.google.com/assets/colab-badge.svg\" alt=\"Open In Colab\"/></a>"
      ]
    },
    {
      "cell_type": "code",
      "execution_count": null,
      "metadata": {
        "colab": {
          "base_uri": "https://localhost:8080/"
        },
        "id": "jHlGdr6asFro",
        "outputId": "f62777cc-428a-480b-a9f6-b1747425993a"
      },
      "outputs": [
        {
          "output_type": "stream",
          "name": "stdout",
          "text": [
            "[1.4018930165258376, 0.9841864212968798, 0.0]\n"
          ]
        }
      ],
      "source": [
        "# вычисление собственных векторов и собственных чисел\n",
        "\n",
        "import numpy as np\n",
        "import matplotlib.pyplot as plt\n",
        "\n",
        "SIZE = 1000\n",
        "np.random.seed(123)\n",
        "x = np.random.normal(size=SIZE)\n",
        "y = np.random.normal(size=SIZE)\n",
        "z = (x + y) / 2\n",
        "\n",
        "F = np.vstack([x, y, z])\n",
        "FF = 1 / SIZE * F @ F.T\n",
        "L, W = np.linalg.eig(FF)\n",
        "WW = sorted(zip(L, W.T), key=lambda lx: lx[0], reverse=True)\n",
        "WW = np.array([w[1] for w in WW])\n",
        "\n",
        "print(sorted(L, reverse=True))"
      ]
    }
  ]
}